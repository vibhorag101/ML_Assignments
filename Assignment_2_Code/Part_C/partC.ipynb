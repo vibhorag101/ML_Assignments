{
 "cells": [
  {
   "cell_type": "code",
   "execution_count": 13,
   "metadata": {},
   "outputs": [],
   "source": [
    "import numpy as np\n",
    "import matplotlib.pyplot as plt\n",
    "import seaborn as sns\n",
    "from sklearn.metrics import accuracy_score\n",
    "from sklearn.preprocessing import LabelEncoder\n",
    "from sklearn.preprocessing import StandardScaler\n",
    "from sklearn.tree import DecisionTreeClassifier\n",
    "import pandas as pd\n",
    "from sklearn.ensemble import AdaBoostClassifier\n",
    "from sklearn.ensemble import RandomForestClassifier"
   ]
  },
  {
   "cell_type": "code",
   "execution_count": 14,
   "metadata": {},
   "outputs": [],
   "source": [
    "LE = LabelEncoder()\n",
    "SS = StandardScaler()\n",
    "df = \"\""
   ]
  },
  {
   "cell_type": "code",
   "execution_count": 15,
   "metadata": {},
   "outputs": [],
   "source": [
    "def initialiseData():\n",
    "    df = pd.DataFrame(pd.read_csv('BitcoinHeistData.csv'))\n",
    "    df = df.dropna()\n",
    "    df = df.sample(frac=1,random_state=2).reset_index(drop=True)\n",
    "    return df"
   ]
  },
  {
   "cell_type": "code",
   "execution_count": 16,
   "metadata": {},
   "outputs": [],
   "source": [
    "df = initialiseData()"
   ]
  },
  {
   "cell_type": "code",
   "execution_count": 17,
   "metadata": {},
   "outputs": [],
   "source": [
    "def runDecisionTree(trainX, trainY, testX, testY,valX,valY):\n",
    "    maxHeight = [4,8,10,15,20]\n",
    "    i=0\n",
    "    while i < len(maxHeight):\n",
    "        dtc1 = DecisionTreeClassifier(criterion=\"gini\",max_depth=maxHeight[i],random_state=2)\n",
    "        dtc1.fit(trainX,trainY)\n",
    "        yPred = dtc1.predict(testX)\n",
    "        yPredVal = dtc1.predict(valX)\n",
    "        print(\"Accuracy for max height of tree = \",maxHeight[i],\" is \",accuracy_score(testY,yPred),\" for gini\")\n",
    "        print(\"Accuracy for max height of tree = \",maxHeight[i],\" is \",accuracy_score(valY,yPredVal),\" for gini on validation set\")\n",
    "        i+=1\n",
    "        \n",
    "    j=0\n",
    "    while j < len(maxHeight):\n",
    "        dtc2 = DecisionTreeClassifier(criterion=\"entropy\",max_depth=maxHeight[j],random_state=2)\n",
    "        dtc2.fit(trainX,trainY)\n",
    "        yPred = dtc2.predict(testX)\n",
    "        yPredVal = dtc2.predict(valX)\n",
    "        print(\"Accuracy for max height of tree = \",maxHeight[j],\" is \",accuracy_score(testY,yPred),\" for entropy\")\n",
    "        print(\"Accuracy for max height of tree = \",maxHeight[j],\" is \",accuracy_score(valY,yPredVal),\" for entropy on validation set\")\n",
    "        j+=1"
   ]
  },
  {
   "cell_type": "code",
   "execution_count": 18,
   "metadata": {},
   "outputs": [],
   "source": [
    "def modifyData(xTrainTemp,yTrainTemp,trainTemp,i):\n",
    "        trainTemp = trainTemp.sample(frac=1,random_state=i).reset_index(drop=True)\n",
    "        xTrainTemp = trainTemp.drop(['label'],axis=1)\n",
    "        xTrainTemp = xTrainTemp[:int(len(df)*0.5)]\n",
    "        yTrainTemp = trainTemp['label']\n",
    "        yTrainTemp = yTrainTemp[:int(len(df)*0.5)]\n",
    "        return xTrainTemp,yTrainTemp"
   ]
  },
  {
   "cell_type": "code",
   "execution_count": 19,
   "metadata": {},
   "outputs": [],
   "source": [
    "def runEnsembling(trainX,trainY,testX,testY,valX,valY):\n",
    "    noError = 0\n",
    "    res = []\n",
    "    resVal =[]\n",
    "    xTrainTemp = trainX.copy()\n",
    "    yTrainTemp = trainY.copy()\n",
    "    trainTemp = pd.concat([xTrainTemp,yTrainTemp],axis=1)\n",
    "    i=0\n",
    "    while i < 100:\n",
    "        xTrainTemp,yTrainTemp = modifyData(xTrainTemp,yTrainTemp,trainTemp,i)\n",
    "        dtc = DecisionTreeClassifier(criterion=\"entropy\",max_depth=3,random_state=i,splitter=\"random\")\n",
    "        dtc.fit(xTrainTemp,yTrainTemp)\n",
    "        yPred = dtc.predict(testX)\n",
    "        res.append(yPred)\n",
    "        yValPred = dtc.predict(valX)\n",
    "        resVal.append(yValPred)\n",
    "        i+=1\n",
    "    resNew = []\n",
    "    resNewVal = []\n",
    "    for i in res:\n",
    "        resNew.append(np.array(i))\n",
    "    \n",
    "    for i in resVal:\n",
    "        resNewVal.append(np.array(i))\n",
    "    resNew = (np.array(resNew)).T\n",
    "    resNewVal = (np.array(resNewVal)).T\n",
    "    i=0\n",
    "    while(i<resNew.shape[0]):\n",
    "        if np.bincount(resNew[i]).argmax() == testY.iloc[i]:\n",
    "            noError+=1\n",
    "        i+=1\n",
    "\n",
    "    i=0\n",
    "    noErrorVal = 0\n",
    "    while(i<resNewVal.shape[0]):\n",
    "        if np.bincount(resNewVal[i]).argmax() == valY.iloc[i]:\n",
    "            noErrorVal+=1\n",
    "        i+=1\n",
    "    print(\"Accuracy for ensemble is \",noError/len(testY))\n",
    "    print(\"Accuracy for ensemble on validation set is \",noErrorVal/len(valY))"
   ]
  },
  {
   "cell_type": "code",
   "execution_count": 20,
   "metadata": {},
   "outputs": [],
   "source": [
    "def runBoostingAdaBoost(trainX,trainY,testX,testY,valX,valY):\n",
    "    predictors = [4,8,10,15,20]\n",
    "    i=0\n",
    "    while i < len(predictors):\n",
    "        dtc = AdaBoostClassifier(n_estimators=predictors[i],random_state=2,base_estimator=DecisionTreeClassifier(criterion=\"entropy\",max_depth=15,random_state=2))\n",
    "        dtc.fit(trainX,trainY)\n",
    "        yPred = dtc.predict(testX)\n",
    "        yValPred = dtc.predict(valX)\n",
    "        print(\"Accuracy for number of predictors = \",predictors[i],\" is \",accuracy_score(testY,yPred),\" for AdaBoost\")\n",
    "        print(\"Accuracy for number of predictors = \",predictors[i],\" is \",accuracy_score(valY,yValPred),\" for AdaBoost on validation set\")\n",
    "        i+=1"
   ]
  },
  {
   "cell_type": "code",
   "execution_count": 21,
   "metadata": {},
   "outputs": [],
   "source": [
    "def runBoostingRF(trainX,trainY,testX,testY,valX,valY):\n",
    "    predictors = [4,8,10,15,20]\n",
    "    i=0\n",
    "    while i < len(predictors):\n",
    "        dtc = RandomForestClassifier(random_state=2,n_estimators=predictors[i],max_depth=15,criterion=\"entropy\")\n",
    "        dtc.fit(trainX,trainY)\n",
    "        yPred = dtc.predict(testX)\n",
    "        yValPred = dtc.predict(valX)\n",
    "        print(\"Accuracy for number of predictors = \",predictors[i],\" is \",accuracy_score(testY,yPred),\" for random forest\")\n",
    "        print(\"Accuracy for number of predictors = \",predictors[i],\" is \",accuracy_score(valY,yValPred),\" for random forest on validation set\")\n",
    "        i+=1"
   ]
  },
  {
   "cell_type": "code",
   "execution_count": 22,
   "metadata": {},
   "outputs": [],
   "source": [
    "df['label'] = LE.fit_transform(df['label']) \n",
    "df['address'] = LE.fit_transform(df['address'])\n",
    "\n",
    "df1 = df.drop(['label'], axis=1)\n",
    "labelTemp = df['label']\n",
    "\n",
    "trainX=df1[:int(len(df1)*0.7)]\n",
    "trainY= labelTemp[:int(len(labelTemp)*0.7)]\n",
    "\n",
    "valX = df1[int(len(df1)*0.7):int(len(df1)*0.85)]\n",
    "valY=labelTemp[int(len(labelTemp)*0.7):int(len(labelTemp)*0.85)]\n",
    "\n",
    "testX = df1[int(len(df1)*0.85):]\n",
    "testY =labelTemp[int(len(labelTemp)*0.85):]\n"
   ]
  },
  {
   "cell_type": "code",
   "execution_count": 23,
   "metadata": {},
   "outputs": [
    {
     "name": "stdout",
     "output_type": "stream",
     "text": [
      "Accuracy for max height of tree =  4  is  0.9858378761385584  for gini\n",
      "Accuracy for max height of tree =  4  is  0.9859087324716289  for gini on validation set\n"
     ]
    },
    {
     "ename": "KeyboardInterrupt",
     "evalue": "",
     "output_type": "error",
     "traceback": [
      "\u001b[1;31m---------------------------------------------------------------------------\u001b[0m",
      "\u001b[1;31mKeyboardInterrupt\u001b[0m                         Traceback (most recent call last)",
      "\u001b[1;32mc:\\Users\\Vibhor\\Desktop\\ML_Assignments\\Assignment_2_Code\\Part_C\\partC.ipynb Cell 11\u001b[0m in \u001b[0;36m<cell line: 1>\u001b[1;34m()\u001b[0m\n\u001b[1;32m----> <a href='vscode-notebook-cell:/c%3A/Users/Vibhor/Desktop/ML_Assignments/Assignment_2_Code/Part_C/partC.ipynb#X13sZmlsZQ%3D%3D?line=0'>1</a>\u001b[0m runDecisionTree(trainX, trainY, testX, testY,valX,valY)\n",
      "\u001b[1;32mc:\\Users\\Vibhor\\Desktop\\ML_Assignments\\Assignment_2_Code\\Part_C\\partC.ipynb Cell 11\u001b[0m in \u001b[0;36mrunDecisionTree\u001b[1;34m(trainX, trainY, testX, testY, valX, valY)\u001b[0m\n\u001b[0;32m      <a href='vscode-notebook-cell:/c%3A/Users/Vibhor/Desktop/ML_Assignments/Assignment_2_Code/Part_C/partC.ipynb#X13sZmlsZQ%3D%3D?line=5'>6</a>\u001b[0m dtc1\u001b[39m.\u001b[39mfit(trainX,trainY)\n\u001b[0;32m      <a href='vscode-notebook-cell:/c%3A/Users/Vibhor/Desktop/ML_Assignments/Assignment_2_Code/Part_C/partC.ipynb#X13sZmlsZQ%3D%3D?line=6'>7</a>\u001b[0m yPred \u001b[39m=\u001b[39m dtc1\u001b[39m.\u001b[39mpredict(testX)\n\u001b[1;32m----> <a href='vscode-notebook-cell:/c%3A/Users/Vibhor/Desktop/ML_Assignments/Assignment_2_Code/Part_C/partC.ipynb#X13sZmlsZQ%3D%3D?line=7'>8</a>\u001b[0m yPredVal \u001b[39m=\u001b[39m dtc1\u001b[39m.\u001b[39;49mpredict(valX)\n\u001b[0;32m      <a href='vscode-notebook-cell:/c%3A/Users/Vibhor/Desktop/ML_Assignments/Assignment_2_Code/Part_C/partC.ipynb#X13sZmlsZQ%3D%3D?line=8'>9</a>\u001b[0m \u001b[39mprint\u001b[39m(\u001b[39m\"\u001b[39m\u001b[39mAccuracy for max height of tree = \u001b[39m\u001b[39m\"\u001b[39m,maxHeight[i],\u001b[39m\"\u001b[39m\u001b[39m is \u001b[39m\u001b[39m\"\u001b[39m,accuracy_score(testY,yPred),\u001b[39m\"\u001b[39m\u001b[39m for gini\u001b[39m\u001b[39m\"\u001b[39m)\n\u001b[0;32m     <a href='vscode-notebook-cell:/c%3A/Users/Vibhor/Desktop/ML_Assignments/Assignment_2_Code/Part_C/partC.ipynb#X13sZmlsZQ%3D%3D?line=9'>10</a>\u001b[0m \u001b[39mprint\u001b[39m(\u001b[39m\"\u001b[39m\u001b[39mAccuracy for max height of tree = \u001b[39m\u001b[39m\"\u001b[39m,maxHeight[i],\u001b[39m\"\u001b[39m\u001b[39m is \u001b[39m\u001b[39m\"\u001b[39m,accuracy_score(valY,yPredVal),\u001b[39m\"\u001b[39m\u001b[39m for gini on validation set\u001b[39m\u001b[39m\"\u001b[39m)\n",
      "File \u001b[1;32mc:\\Users\\Vibhor\\anaconda3\\lib\\site-packages\\sklearn\\tree\\_classes.py:467\u001b[0m, in \u001b[0;36mBaseDecisionTree.predict\u001b[1;34m(self, X, check_input)\u001b[0m\n\u001b[0;32m    444\u001b[0m \u001b[39m\"\"\"Predict class or regression value for X.\u001b[39;00m\n\u001b[0;32m    445\u001b[0m \n\u001b[0;32m    446\u001b[0m \u001b[39mFor a classification model, the predicted class for each sample in X is\u001b[39;00m\n\u001b[1;32m   (...)\u001b[0m\n\u001b[0;32m    464\u001b[0m \u001b[39m    The predicted classes, or the predict values.\u001b[39;00m\n\u001b[0;32m    465\u001b[0m \u001b[39m\"\"\"\u001b[39;00m\n\u001b[0;32m    466\u001b[0m check_is_fitted(\u001b[39mself\u001b[39m)\n\u001b[1;32m--> 467\u001b[0m X \u001b[39m=\u001b[39m \u001b[39mself\u001b[39;49m\u001b[39m.\u001b[39;49m_validate_X_predict(X, check_input)\n\u001b[0;32m    468\u001b[0m proba \u001b[39m=\u001b[39m \u001b[39mself\u001b[39m\u001b[39m.\u001b[39mtree_\u001b[39m.\u001b[39mpredict(X)\n\u001b[0;32m    469\u001b[0m n_samples \u001b[39m=\u001b[39m X\u001b[39m.\u001b[39mshape[\u001b[39m0\u001b[39m]\n",
      "File \u001b[1;32mc:\\Users\\Vibhor\\anaconda3\\lib\\site-packages\\sklearn\\tree\\_classes.py:433\u001b[0m, in \u001b[0;36mBaseDecisionTree._validate_X_predict\u001b[1;34m(self, X, check_input)\u001b[0m\n\u001b[0;32m    431\u001b[0m \u001b[39m\"\"\"Validate the training data on predict (probabilities).\"\"\"\u001b[39;00m\n\u001b[0;32m    432\u001b[0m \u001b[39mif\u001b[39;00m check_input:\n\u001b[1;32m--> 433\u001b[0m     X \u001b[39m=\u001b[39m \u001b[39mself\u001b[39;49m\u001b[39m.\u001b[39;49m_validate_data(X, dtype\u001b[39m=\u001b[39;49mDTYPE, accept_sparse\u001b[39m=\u001b[39;49m\u001b[39m\"\u001b[39;49m\u001b[39mcsr\u001b[39;49m\u001b[39m\"\u001b[39;49m, reset\u001b[39m=\u001b[39;49m\u001b[39mFalse\u001b[39;49;00m)\n\u001b[0;32m    434\u001b[0m     \u001b[39mif\u001b[39;00m issparse(X) \u001b[39mand\u001b[39;00m (\n\u001b[0;32m    435\u001b[0m         X\u001b[39m.\u001b[39mindices\u001b[39m.\u001b[39mdtype \u001b[39m!=\u001b[39m np\u001b[39m.\u001b[39mintc \u001b[39mor\u001b[39;00m X\u001b[39m.\u001b[39mindptr\u001b[39m.\u001b[39mdtype \u001b[39m!=\u001b[39m np\u001b[39m.\u001b[39mintc\n\u001b[0;32m    436\u001b[0m     ):\n\u001b[0;32m    437\u001b[0m         \u001b[39mraise\u001b[39;00m \u001b[39mValueError\u001b[39;00m(\u001b[39m\"\u001b[39m\u001b[39mNo support for np.int64 index based sparse matrices\u001b[39m\u001b[39m\"\u001b[39m)\n",
      "File \u001b[1;32mc:\\Users\\Vibhor\\anaconda3\\lib\\site-packages\\sklearn\\base.py:566\u001b[0m, in \u001b[0;36mBaseEstimator._validate_data\u001b[1;34m(self, X, y, reset, validate_separately, **check_params)\u001b[0m\n\u001b[0;32m    564\u001b[0m     \u001b[39mraise\u001b[39;00m \u001b[39mValueError\u001b[39;00m(\u001b[39m\"\u001b[39m\u001b[39mValidation should be done on X, y or both.\u001b[39m\u001b[39m\"\u001b[39m)\n\u001b[0;32m    565\u001b[0m \u001b[39melif\u001b[39;00m \u001b[39mnot\u001b[39;00m no_val_X \u001b[39mand\u001b[39;00m no_val_y:\n\u001b[1;32m--> 566\u001b[0m     X \u001b[39m=\u001b[39m check_array(X, \u001b[39m*\u001b[39m\u001b[39m*\u001b[39mcheck_params)\n\u001b[0;32m    567\u001b[0m     out \u001b[39m=\u001b[39m X\n\u001b[0;32m    568\u001b[0m \u001b[39melif\u001b[39;00m no_val_X \u001b[39mand\u001b[39;00m \u001b[39mnot\u001b[39;00m no_val_y:\n",
      "File \u001b[1;32mc:\\Users\\Vibhor\\anaconda3\\lib\\site-packages\\sklearn\\utils\\validation.py:746\u001b[0m, in \u001b[0;36mcheck_array\u001b[1;34m(array, accept_sparse, accept_large_sparse, dtype, order, copy, force_all_finite, ensure_2d, allow_nd, ensure_min_samples, ensure_min_features, estimator)\u001b[0m\n\u001b[0;32m    744\u001b[0m         array \u001b[39m=\u001b[39m array\u001b[39m.\u001b[39mastype(dtype, casting\u001b[39m=\u001b[39m\u001b[39m\"\u001b[39m\u001b[39munsafe\u001b[39m\u001b[39m\"\u001b[39m, copy\u001b[39m=\u001b[39m\u001b[39mFalse\u001b[39;00m)\n\u001b[0;32m    745\u001b[0m     \u001b[39melse\u001b[39;00m:\n\u001b[1;32m--> 746\u001b[0m         array \u001b[39m=\u001b[39m np\u001b[39m.\u001b[39;49masarray(array, order\u001b[39m=\u001b[39;49morder, dtype\u001b[39m=\u001b[39;49mdtype)\n\u001b[0;32m    747\u001b[0m \u001b[39mexcept\u001b[39;00m ComplexWarning \u001b[39mas\u001b[39;00m complex_warning:\n\u001b[0;32m    748\u001b[0m     \u001b[39mraise\u001b[39;00m \u001b[39mValueError\u001b[39;00m(\n\u001b[0;32m    749\u001b[0m         \u001b[39m\"\u001b[39m\u001b[39mComplex data not supported\u001b[39m\u001b[39m\\n\u001b[39;00m\u001b[39m{}\u001b[39;00m\u001b[39m\\n\u001b[39;00m\u001b[39m\"\u001b[39m\u001b[39m.\u001b[39mformat(array)\n\u001b[0;32m    750\u001b[0m     ) \u001b[39mfrom\u001b[39;00m \u001b[39mcomplex_warning\u001b[39;00m\n",
      "File \u001b[1;32mc:\\Users\\Vibhor\\anaconda3\\lib\\site-packages\\pandas\\core\\generic.py:2064\u001b[0m, in \u001b[0;36mNDFrame.__array__\u001b[1;34m(self, dtype)\u001b[0m\n\u001b[0;32m   2063\u001b[0m \u001b[39mdef\u001b[39;00m \u001b[39m__array__\u001b[39m(\u001b[39mself\u001b[39m, dtype: npt\u001b[39m.\u001b[39mDTypeLike \u001b[39m|\u001b[39m \u001b[39mNone\u001b[39;00m \u001b[39m=\u001b[39m \u001b[39mNone\u001b[39;00m) \u001b[39m-\u001b[39m\u001b[39m>\u001b[39m np\u001b[39m.\u001b[39mndarray:\n\u001b[1;32m-> 2064\u001b[0m     \u001b[39mreturn\u001b[39;00m np\u001b[39m.\u001b[39masarray(\u001b[39mself\u001b[39;49m\u001b[39m.\u001b[39;49m_values, dtype\u001b[39m=\u001b[39mdtype)\n",
      "File \u001b[1;32mc:\\Users\\Vibhor\\anaconda3\\lib\\site-packages\\pandas\\core\\frame.py:918\u001b[0m, in \u001b[0;36mDataFrame._values\u001b[1;34m(self)\u001b[0m\n\u001b[0;32m    916\u001b[0m blocks \u001b[39m=\u001b[39m mgr\u001b[39m.\u001b[39mblocks\n\u001b[0;32m    917\u001b[0m \u001b[39mif\u001b[39;00m \u001b[39mlen\u001b[39m(blocks) \u001b[39m!=\u001b[39m \u001b[39m1\u001b[39m:\n\u001b[1;32m--> 918\u001b[0m     \u001b[39mreturn\u001b[39;00m \u001b[39mself\u001b[39;49m\u001b[39m.\u001b[39;49mvalues\n\u001b[0;32m    920\u001b[0m arr \u001b[39m=\u001b[39m blocks[\u001b[39m0\u001b[39m]\u001b[39m.\u001b[39mvalues\n\u001b[0;32m    921\u001b[0m \u001b[39mif\u001b[39;00m arr\u001b[39m.\u001b[39mndim \u001b[39m==\u001b[39m \u001b[39m1\u001b[39m:\n\u001b[0;32m    922\u001b[0m     \u001b[39m# non-2D ExtensionArray\u001b[39;00m\n",
      "File \u001b[1;32mc:\\Users\\Vibhor\\anaconda3\\lib\\site-packages\\pandas\\core\\frame.py:10883\u001b[0m, in \u001b[0;36mDataFrame.values\u001b[1;34m(self)\u001b[0m\n\u001b[0;32m  10810\u001b[0m \u001b[39m\"\"\"\u001b[39;00m\n\u001b[0;32m  10811\u001b[0m \u001b[39mReturn a Numpy representation of the DataFrame.\u001b[39;00m\n\u001b[0;32m  10812\u001b[0m \n\u001b[1;32m   (...)\u001b[0m\n\u001b[0;32m  10880\u001b[0m \u001b[39m       ['monkey', nan, None]], dtype=object)\u001b[39;00m\n\u001b[0;32m  10881\u001b[0m \u001b[39m\"\"\"\u001b[39;00m\n\u001b[0;32m  10882\u001b[0m \u001b[39mself\u001b[39m\u001b[39m.\u001b[39m_consolidate_inplace()\n\u001b[1;32m> 10883\u001b[0m \u001b[39mreturn\u001b[39;00m \u001b[39mself\u001b[39;49m\u001b[39m.\u001b[39;49m_mgr\u001b[39m.\u001b[39;49mas_array()\n",
      "File \u001b[1;32mc:\\Users\\Vibhor\\anaconda3\\lib\\site-packages\\pandas\\core\\internals\\managers.py:1589\u001b[0m, in \u001b[0;36mBlockManager.as_array\u001b[1;34m(self, dtype, copy, na_value)\u001b[0m\n\u001b[0;32m   1587\u001b[0m             arr \u001b[39m=\u001b[39m arr\u001b[39m.\u001b[39mastype(dtype, copy\u001b[39m=\u001b[39m\u001b[39mFalse\u001b[39;00m)\n\u001b[0;32m   1588\u001b[0m \u001b[39melse\u001b[39;00m:\n\u001b[1;32m-> 1589\u001b[0m     arr \u001b[39m=\u001b[39m \u001b[39mself\u001b[39;49m\u001b[39m.\u001b[39;49m_interleave(dtype\u001b[39m=\u001b[39;49mdtype, na_value\u001b[39m=\u001b[39;49mna_value)\n\u001b[0;32m   1590\u001b[0m     \u001b[39m# The underlying data was copied within _interleave\u001b[39;00m\n\u001b[0;32m   1591\u001b[0m     copy \u001b[39m=\u001b[39m \u001b[39mFalse\u001b[39;00m\n",
      "File \u001b[1;32mc:\\Users\\Vibhor\\anaconda3\\lib\\site-packages\\pandas\\core\\internals\\managers.py:1654\u001b[0m, in \u001b[0;36mBlockManager._interleave\u001b[1;34m(self, dtype, na_value)\u001b[0m\n\u001b[0;32m   1652\u001b[0m     \u001b[39melse\u001b[39;00m:\n\u001b[0;32m   1653\u001b[0m         arr \u001b[39m=\u001b[39m blk\u001b[39m.\u001b[39mget_values(dtype)\n\u001b[1;32m-> 1654\u001b[0m     result[rl\u001b[39m.\u001b[39mindexer] \u001b[39m=\u001b[39m arr\n\u001b[0;32m   1655\u001b[0m     itemmask[rl\u001b[39m.\u001b[39mindexer] \u001b[39m=\u001b[39m \u001b[39m1\u001b[39m\n\u001b[0;32m   1657\u001b[0m \u001b[39mif\u001b[39;00m \u001b[39mnot\u001b[39;00m itemmask\u001b[39m.\u001b[39mall():\n",
      "\u001b[1;31mKeyboardInterrupt\u001b[0m: "
     ]
    }
   ],
   "source": [
    "runDecisionTree(trainX, trainY, testX, testY,valX,valY)"
   ]
  },
  {
   "cell_type": "code",
   "execution_count": null,
   "metadata": {},
   "outputs": [],
   "source": [
    "runEnsembling (trainX, trainY, testX, testY,valX=valX,valY=valY)"
   ]
  },
  {
   "cell_type": "code",
   "execution_count": null,
   "metadata": {},
   "outputs": [],
   "source": [
    "runBoostingAdaBoost(trainX, trainY, testX, testY,valX=valX,valY=valY)"
   ]
  },
  {
   "cell_type": "code",
   "execution_count": null,
   "metadata": {},
   "outputs": [],
   "source": [
    "runBoostingRF(trainX, trainY, testX, testY,valX=valX,valY=valY)"
   ]
  }
 ],
 "metadata": {
  "kernelspec": {
   "display_name": "Python 3.9.12 ('base')",
   "language": "python",
   "name": "python3"
  },
  "language_info": {
   "codemirror_mode": {
    "name": "ipython",
    "version": 3
   },
   "file_extension": ".py",
   "mimetype": "text/x-python",
   "name": "python",
   "nbconvert_exporter": "python",
   "pygments_lexer": "ipython3",
   "version": "3.9.12"
  },
  "orig_nbformat": 4,
  "vscode": {
   "interpreter": {
    "hash": "2075c97d54907e4ce0bb4b751e65d444874ef25bbe90d9b8c2daef915656c098"
   }
  }
 },
 "nbformat": 4,
 "nbformat_minor": 2
}
