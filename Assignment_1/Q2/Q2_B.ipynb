{
 "cells": [
  {
   "cell_type": "code",
   "execution_count": 1,
   "metadata": {},
   "outputs": [],
   "source": [
    "import numpy as np\n",
    "import pandas as pd\n",
    "import matplotlib.pyplot as plt\n",
    "import random"
   ]
  },
  {
   "cell_type": "code",
   "execution_count": 2,
   "metadata": {},
   "outputs": [],
   "source": [
    "df = pd.read_csv('Real estate.csv')"
   ]
  },
  {
   "cell_type": "code",
   "execution_count": 3,
   "metadata": {},
   "outputs": [],
   "source": [
    "inputData = \"\"\n",
    "outputData = \"\"\n",
    "\n",
    "def initialiseData():\n",
    "    global outputData\n",
    "    global inputData\n",
    "    outputData = df.iloc[:,7]\n",
    "    inputData = df.iloc[:,1:7]\n",
    "\n",
    "def meanData(inputData):\n",
    "    return np.mean(inputData)\n",
    "\n",
    "def sdData(inputData):\n",
    "    return np.std(inputData)\n",
    "\n",
    "initialiseData()"
   ]
  },
  {
   "cell_type": "code",
   "execution_count": 4,
   "metadata": {},
   "outputs": [],
   "source": [
    "numColumns = inputData.shape[1]\n",
    "startingWeight = np.zeros(numColumns+1)"
   ]
  },
  {
   "cell_type": "code",
   "execution_count": 5,
   "metadata": {},
   "outputs": [],
   "source": [
    "def normaliseData(inputData):\n",
    "    meanInput = meanData(inputData)\n",
    "    stdInput = sdData(inputData)\n",
    "    return ((inputData-meanInput)/stdInput)\n",
    "\n",
    "def plotData(plt,k):\n",
    "    plt.xlabel('No. of Iterations')\n",
    "    plt.ylabel('RMSE')\n",
    "    str1 = \"RMSE vs Iterations for k = \" + str(k)\n",
    "    plt.title(str1)\n",
    "    plt.legend()\n",
    "    plt.show()\n",
    "    "
   ]
  },
  {
   "cell_type": "code",
   "execution_count": 6,
   "metadata": {},
   "outputs": [],
   "source": [
    "def summation(inputData,outputData,numRows):\n",
    "    sum = 0\n",
    "    i=0\n",
    "    while i < numRows:\n",
    "        sum = sum + (outputData.iloc[i] - np.dot(inputData.iloc[i],startingWeight))*inputData.iloc[i]\n",
    "        i = i+1\n",
    "    return sum\n",
    "    \n",
    "def insertCol(inputData):\n",
    "    value = pd.DataFrame(np.ones(inputData.shape[0]))\n",
    "    inputData.insert(0,\"Bias weight\",value)\n",
    "\n",
    "def gradientDescent(iterations,learningRate,startingWeight,inputData,outputData,numColumns,xCor,yCor,plotInput,testOutput,rowsPerFold,trainOutputStd,trainOutputMean):\n",
    "    insertCol(inputData)\n",
    "    numRows = inputData.shape[0]\n",
    "    # loss = 0\n",
    "    for i in range(iterations):\n",
    "        tempWeight = np.zeros(numColumns+1)\n",
    "        tempWeight = startingWeight + learningRate*(summation(inputData,outputData,numRows)/numRows)\n",
    "        startingWeight = tempWeight\n",
    "        valY = loss(rowsPerFold,startingWeight,plotInput,trainOutputStd,trainOutputMean,testOutput)\n",
    "        xCor.append(i)\n",
    "        yCor.append(valY)\n",
    "    return startingWeight\n",
    "    \n",
    "\n",
    "def loss(rowsPerFold,newWeight,testInput,trainOutputStd,trainOutputMean,testOutput):\n",
    "    currLoss=0\n",
    "    j=0\n",
    "    while j< rowsPerFold:\n",
    "        predictedNormalised = newWeight[0]+np.dot(newWeight[1:],testInput.iloc[j])\n",
    "        predicted = predictedNormalised*trainOutputStd+trainOutputMean\n",
    "        currLoss += (predicted-testOutput.iloc[j])**2\n",
    "        j = j+1\n",
    "    currLoss = currLoss/rowsPerFold\n",
    "    currLoss = np.sqrt(currLoss)\n",
    "    return currLoss\n",
    "    \n",
    "    "
   ]
  },
  {
   "cell_type": "code",
   "execution_count": 7,
   "metadata": {},
   "outputs": [],
   "source": [
    "def kFold(k,iterations,learningRate,startingWeight):\n",
    "    numColumns = inputData.shape[1]\n",
    "    totalRows = inputData.shape[0]\n",
    "    rowsPerFold = int(totalRows/k)\n",
    "    averageLoss = 0\n",
    "    i=0\n",
    "    while i<k:\n",
    "        xCor = []\n",
    "        yCor = []\n",
    "        start = i*rowsPerFold\n",
    "        end = start+rowsPerFold\n",
    "        testInput = inputData[start:end]\n",
    "        testOutput = outputData[start:end]\n",
    "        trainInput = inputData.drop(inputData.index[start:end])\n",
    "        trainOutput = outputData.drop(outputData.index[start:end])\n",
    "        trainInputMean = meanData(trainInput)\n",
    "        trainInputStd = sdData(trainInput)\n",
    "        trainOutputMean = meanData(trainOutput)\n",
    "        trainOutputStd = sdData(trainOutput)\n",
    "        trainInput = normaliseData(trainInput)\n",
    "        trainOutput = normaliseData(trainOutput)\n",
    "        plotInput = (testInput-trainInputMean)/trainInputStd\n",
    "        \n",
    "        startingWeight = np.zeros(numColumns+1)\n",
    "        startingWeight = gradientDescent(iterations,learningRate,startingWeight,trainInput,trainOutput,numColumns,xCor,yCor,plotInput,testOutput,rowsPerFold,trainOutputStd,trainOutputMean)\n",
    "        averageLoss += loss (rowsPerFold,startingWeight,plotInput,trainOutputStd,trainOutputMean,testOutput)\n",
    "\n",
    "        Label = \"The K value is \"+str((i+1))\n",
    "        plt.plot(xCor, yCor, label = Label)\n",
    "        i = i+1\n",
    "    plotData(plt,k)\n",
    "    averageLoss = averageLoss/k\n",
    "    return averageLoss\n",
    "\n",
    "\n"
   ]
  },
  {
   "cell_type": "code",
   "execution_count": 8,
   "metadata": {},
   "outputs": [],
   "source": [
    "def runGD(k,learningRate,iterations):\n",
    "    print(\"Learning Rate: \",learningRate,\" Iterations: \",iterations,\" k: \",k)\n",
    "    averageLoss = kFold(k,iterations,learningRate,startingWeight)\n",
    "    print(\"Average Loss: \",averageLoss)"
   ]
  },
  {
   "cell_type": "code",
   "execution_count": 9,
   "metadata": {},
   "outputs": [
    {
     "name": "stdout",
     "output_type": "stream",
     "text": [
      "Learning Rate:  0.0005  Iterations:  500  k:  4\n"
     ]
    },
    {
     "name": "stderr",
     "output_type": "stream",
     "text": [
      "c:\\Users\\Vibhor\\anaconda3\\lib\\site-packages\\numpy\\core\\fromnumeric.py:3438: FutureWarning: In a future version, DataFrame.mean(axis=None) will return a scalar mean over the entire DataFrame. To retain the old behavior, use 'frame.mean(axis=0)' or just 'frame.mean()'\n",
      "  return mean(axis=axis, dtype=dtype, out=out, **kwargs)\n",
      "c:\\Users\\Vibhor\\anaconda3\\lib\\site-packages\\numpy\\core\\fromnumeric.py:3438: FutureWarning: In a future version, DataFrame.mean(axis=None) will return a scalar mean over the entire DataFrame. To retain the old behavior, use 'frame.mean(axis=0)' or just 'frame.mean()'\n",
      "  return mean(axis=axis, dtype=dtype, out=out, **kwargs)\n",
      "c:\\Users\\Vibhor\\anaconda3\\lib\\site-packages\\numpy\\core\\fromnumeric.py:3438: FutureWarning: In a future version, DataFrame.mean(axis=None) will return a scalar mean over the entire DataFrame. To retain the old behavior, use 'frame.mean(axis=0)' or just 'frame.mean()'\n",
      "  return mean(axis=axis, dtype=dtype, out=out, **kwargs)\n",
      "c:\\Users\\Vibhor\\anaconda3\\lib\\site-packages\\numpy\\core\\fromnumeric.py:3438: FutureWarning: In a future version, DataFrame.mean(axis=None) will return a scalar mean over the entire DataFrame. To retain the old behavior, use 'frame.mean(axis=0)' or just 'frame.mean()'\n",
      "  return mean(axis=axis, dtype=dtype, out=out, **kwargs)\n"
     ]
    },
    {
     "data": {
      "image/png": "[encoded data removed]",
      "text/plain": [
       "<Figure size 432x288 with 1 Axes>"
      ]
     },
     "metadata": {
      "needs_background": "light"
     },
     "output_type": "display_data"
    },
    {
     "name": "stdout",
     "output_type": "stream",
     "text": [
      "Average Loss:  9.793230561567986\n"
     ]
    }
   ],
   "source": [
    "runGD(4,0.0005,500)"
   ]
  }
 ],
 "metadata": {
  "kernelspec": {
   "display_name": "Python 3.9.12 ('base')",
   "language": "python",
   "name": "python3"
  },
  "language_info": {
   "codemirror_mode": {
    "name": "ipython",
    "version": 3
   },
   "file_extension": ".py",
   "mimetype": "text/x-python",
   "name": "python",
   "nbconvert_exporter": "python",
   "pygments_lexer": "ipython3",
   "version": "3.9.12"
  },
  "orig_nbformat": 4,
  "vscode": {
   "interpreter": {
    "hash": "2075c97d54907e4ce0bb4b751e65d444874ef25bbe90d9b8c2daef915656c098"
   }
  }
 },
 "nbformat": 4,
 "nbformat_minor": 2
}
