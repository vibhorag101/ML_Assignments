{
 "cells": [
  {
   "cell_type": "code",
   "execution_count": 11,
   "metadata": {},
   "outputs": [],
   "source": [
    "import numpy as np\n",
    "import pandas as pd\n",
    "import matplotlib.pyplot as plt\n",
    "import random"
   ]
  },
  {
   "cell_type": "code",
   "execution_count": 12,
   "metadata": {},
   "outputs": [],
   "source": [
    "df = pd.read_csv('Real estate.csv')"
   ]
  },
  {
   "cell_type": "code",
   "execution_count": 13,
   "metadata": {},
   "outputs": [],
   "source": [
    "inputData = \"\"\n",
    "outputData = \"\"\n",
    "\n",
    "def initialiseData():\n",
    "    global outputData\n",
    "    global inputData\n",
    "    outputData = df.iloc[:,7]\n",
    "    inputData = df.iloc[:,1:7]\n",
    "\n",
    "def meanData(inputData):\n",
    "    return np.mean(inputData)\n",
    "\n",
    "def sdData(inputData):\n",
    "    return np.std(inputData)\n",
    "\n",
    "initialiseData()"
   ]
  },
  {
   "cell_type": "code",
   "execution_count": 14,
   "metadata": {},
   "outputs": [],
   "source": [
    "numColumns = inputData.shape[1]\n",
    "startingWeight = np.zeros(numColumns+1)"
   ]
  },
  {
   "cell_type": "code",
   "execution_count": 15,
   "metadata": {},
   "outputs": [],
   "source": [
    "def normaliseData(inputData):\n",
    "    meanInput = meanData(inputData)\n",
    "    stdInput = sdData(inputData)\n",
    "    return ((inputData-meanInput)/stdInput)\n",
    "\n",
    "def plotData(plt):\n",
    "    plt.xlabel('No. of Iterations')\n",
    "    plt.ylabel('RMSE')\n",
    "    plt.title('RMSE vs Iterations in case of Lasso Regularisation')\n",
    "    plt.legend()\n",
    "    plt.show()"
   ]
  },
  {
   "cell_type": "code",
   "execution_count": 16,
   "metadata": {},
   "outputs": [],
   "source": [
    "\n",
    "def weightFinder(inputData,outputData,bias,penalty,learningRate,startingWeight):\n",
    "    numRows = inputData.shape[0]\n",
    "    currValue = inputData.dot(startingWeight) + bias\n",
    "    numColumns = inputData.shape[1]\n",
    "    deltaWeight = np.zeros(numColumns)\n",
    "    i=0\n",
    "    while i < numColumns:\n",
    "        if startingWeight[i] > 0:\n",
    "            deltaWeight[i]= 2*(inputData.iloc[:,i].dot(currValue-outputData)+penalty)/numRows\n",
    "        else:\n",
    "            deltaWeight[i]= 2*(inputData.iloc[:,i].dot(currValue-outputData)-penalty)/numRows\n",
    "        i = i+1\n",
    "        \n",
    "    bias = bias - learningRate*(2*(np.sum(currValue-outputData))/numRows)\n",
    "    startingWeight = startingWeight - learningRate*deltaWeight\n",
    "    return [startingWeight,bias]\n",
    "\n",
    "\n",
    "def gradientDescent(iterations,learningRate,startingWeight,inputData,outputData,numColumns,xCor,yCor,testInput,testOutput,rowsPerFold,trainOutputStd,trainOutputMean,penalty,bias):\n",
    "    # insertCol(inputData)\n",
    "    numRows = inputData.shape[0]\n",
    "    i =0\n",
    "    weight = startingWeight\n",
    "    while i<iterations:\n",
    "        ans = weightFinder(inputData,outputData,bias,penalty,learningRate,startingWeight)\n",
    "        startingWeight = ans[0]\n",
    "        bias = ans[1]\n",
    "        # print(startingWeight)\n",
    "        valY = loss(rowsPerFold,startingWeight,testInput,trainOutputStd,trainOutputMean,testOutput,bias)\n",
    "        xCor.append(i+1)\n",
    "        yCor.append(valY)\n",
    "        i = i+1\n",
    "    return startingWeight\n",
    "\n",
    "def loss(rowsPerFold,newWeight,testInput,trainOutputStd,trainOutputMean,testOutput,bias):\n",
    "        currLoss=0\n",
    "        j=0\n",
    "        while j< rowsPerFold:\n",
    "            predictedNormalised = bias + np.dot(testInput.iloc[j],newWeight)\n",
    "            predicted = predictedNormalised*trainOutputStd+trainOutputMean\n",
    "            currLoss += (predicted-testOutput.iloc[j])**2\n",
    "            j = j+1\n",
    "        currLoss = (currLoss/rowsPerFold)\n",
    "        currLoss = np.sqrt(currLoss)\n",
    "        return currLoss\n",
    "    \n",
    "    "
   ]
  },
  {
   "cell_type": "code",
   "execution_count": 17,
   "metadata": {},
   "outputs": [],
   "source": [
    "def kFold(k,iterations,learningRate,startingWeight,penalty):\n",
    "    numColumns = inputData.shape[1]\n",
    "    totalRows = inputData.shape[0]\n",
    "    rowsPerFold = int(totalRows/k)\n",
    "    averageLoss = 0\n",
    "    i=0\n",
    "    while i<k:\n",
    "        xCor = []\n",
    "        yCor = []\n",
    "        bias = 0\n",
    "        start = i*rowsPerFold\n",
    "        end = start+rowsPerFold\n",
    "        testInput = inputData[start:end]\n",
    "        testOutput = outputData[start:end]\n",
    "        trainInput = inputData.drop(inputData.index[start:end])\n",
    "        trainOutput = outputData.drop(outputData.index[start:end])\n",
    "        trainInputMean = meanData(trainInput)\n",
    "        trainInputStd = sdData(trainInput)\n",
    "        trainOutputMean = meanData(trainOutput)\n",
    "        trainOutputStd = sdData(trainOutput)\n",
    "        trainInput = normaliseData(trainInput)\n",
    "        trainOutput = normaliseData(trainOutput)\n",
    "        testInput = (testInput-trainInputMean)/trainInputStd\n",
    "        \n",
    "        startingWeight = np.zeros(numColumns)\n",
    "        startingWeight = gradientDescent(iterations,learningRate,startingWeight,trainInput,trainOutput,numColumns,xCor,yCor,testInput,testOutput,rowsPerFold,trainOutputStd,trainOutputMean,penalty,bias)\n",
    "        # print(startingWeight)\n",
    "        averageLoss += loss(rowsPerFold,startingWeight,testInput,trainOutputStd,trainOutputMean,testOutput,bias)\n",
    "        RMSELabel = \"The K value is \"+str((i+1))\n",
    "        plt.plot(xCor, yCor, label = RMSELabel)\n",
    "        i = i+1\n",
    "    plotData(plt)\n",
    "    \n",
    "    return averageLoss/k\n",
    "\n",
    "\n"
   ]
  },
  {
   "cell_type": "code",
   "execution_count": 18,
   "metadata": {},
   "outputs": [],
   "source": [
    "def runGD(k,learningRate,iterations,penalty):\n",
    "    print(\"Learning Rate: \",learningRate,\" Iterations: \",iterations,\" k: \",k)\n",
    "    averageLoss = kFold(k,iterations,learningRate,startingWeight.copy(),penalty)\n",
    "    print(\"Average Loss: \",averageLoss)"
   ]
  },
  {
   "cell_type": "code",
   "execution_count": 19,
   "metadata": {},
   "outputs": [
    {
     "name": "stdout",
     "output_type": "stream",
     "text": [
      "Learning Rate:  0.0005  Iterations:  500  k:  4\n"
     ]
    },
    {
     "name": "stderr",
     "output_type": "stream",
     "text": [
      "c:\\Users\\Vibhor\\anaconda3\\lib\\site-packages\\numpy\\core\\fromnumeric.py:3438: FutureWarning: In a future version, DataFrame.mean(axis=None) will return a scalar mean over the entire DataFrame. To retain the old behavior, use 'frame.mean(axis=0)' or just 'frame.mean()'\n",
      "  return mean(axis=axis, dtype=dtype, out=out, **kwargs)\n"
     ]
    },
    {
     "data": {
      "image/png": "[encoded data removed]",
      "text/plain": [
       "<Figure size 432x288 with 1 Axes>"
      ]
     },
     "metadata": {
      "needs_background": "light"
     },
     "output_type": "display_data"
    },
    {
     "name": "stdout",
     "output_type": "stream",
     "text": [
      "Average Loss:  9.482575150894062\n"
     ]
    }
   ],
   "source": [
    "runGD(4,0.0005,500,1)"
   ]
  }
 ],
 "metadata": {
  "kernelspec": {
   "display_name": "Python 3.9.12 ('base')",
   "language": "python",
   "name": "python3"
  },
  "language_info": {
   "codemirror_mode": {
    "name": "ipython",
    "version": 3
   },
   "file_extension": ".py",
   "mimetype": "text/x-python",
   "name": "python",
   "nbconvert_exporter": "python",
   "pygments_lexer": "ipython3",
   "version": "3.9.12"
  },
  "orig_nbformat": 4,
  "vscode": {
   "interpreter": {
    "hash": "2075c97d54907e4ce0bb4b751e65d444874ef25bbe90d9b8c2daef915656c098"
   }
  }
 },
 "nbformat": 4,
 "nbformat_minor": 2
}
