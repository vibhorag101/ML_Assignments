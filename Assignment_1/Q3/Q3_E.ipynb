{
 "cells": [
  {
   "cell_type": "code",
   "execution_count": 1,
   "metadata": {},
   "outputs": [],
   "source": [
    "import numpy as np\n",
    "import matplotlib.pyplot as plt\n",
    "import pandas as pd\n",
    "import seaborn as sns\n",
    "from sklearn.model_selection import train_test_split\n",
    "from sklearn.metrics import accuracy_score\n",
    "from sklearn.metrics import precision_score\n",
    "from sklearn.metrics import recall_score\n",
    "from sklearn.naive_bayes import GaussianNB\n",
    "from sklearn.naive_bayes import MultinomialNB\n",
    "from sklearn.preprocessing import MinMaxScaler\n",
    "from sklearn.model_selection import GridSearchCV\n",
    "from sklearn.manifold import TSNE\n",
    "from sklearn.preprocessing import StandardScaler\n",
    "from sklearn.decomposition import PCA\n",
    "from sklearn.metrics import f1_score\n",
    "from sklearn.linear_model import LogisticRegression"
   ]
  },
  {
   "cell_type": "code",
   "execution_count": 2,
   "metadata": {},
   "outputs": [],
   "source": [
    "reader=pd.read_excel('Dry_Bean_Dataset.xlsx')\n",
    "df=pd.DataFrame(reader)\n",
    "sc=StandardScaler()\n"
   ]
  },
  {
   "cell_type": "code",
   "execution_count": 3,
   "metadata": {},
   "outputs": [],
   "source": [
    "df1=df.drop([\"Class\"],axis=1)\n",
    "tempClass=df[\"Class\"]\n",
    "trainX, testX, trainY, testY = train_test_split(df1, tempClass, test_size=0.2, random_state=2)"
   ]
  },
  {
   "cell_type": "code",
   "execution_count": 4,
   "metadata": {},
   "outputs": [],
   "source": [
    "logistic=LogisticRegression(max_iter=50000,random_state=2)\n",
    "trainX=sc.fit_transform(trainX)\n",
    "testX=sc.transform(testX)"
   ]
  },
  {
   "cell_type": "code",
   "execution_count": 5,
   "metadata": {},
   "outputs": [],
   "source": [
    "def getPCA(n):\n",
    "    resPCA=PCA(n_components=n)\n",
    "    trainXpca=resPCA.fit_transform(trainX)\n",
    "    testXpca=resPCA.transform(testX)\n",
    "    logistic.fit(trainXpca,trainY)\n",
    "    predictedY=logistic.predict(testXpca)\n",
    "    variance = np.sum(resPCA.explained_variance_ratio_);\n",
    "    Accuracy=accuracy_score(testY,predictedY)\n",
    "    Precision=precision_score(testY,predictedY,average='weighted')\n",
    "    Recall=recall_score(testY,predictedY,average='weighted')\n",
    "    F1=f1_score(testY,predictedY,average='weighted')\n",
    "    print(\"number of components are\",n)\n",
    "    print(\"variance is \",variance)\n",
    "    print(\"Accuracy is \",Accuracy)\n",
    "    print(\"Precision is \",Precision)\n",
    "    print(\"Recall is \",Recall)\n",
    "    print(\"F1 is \",F1)"
   ]
  },
  {
   "cell_type": "code",
   "execution_count": 6,
   "metadata": {},
   "outputs": [
    {
     "name": "stdout",
     "output_type": "stream",
     "text": [
      "number of components are 4\n",
      "variance is  0.9501988041227657\n",
      "Accuracy is  0.8894601542416453\n",
      "Precision is  0.8888329430312921\n",
      "Recall is  0.8894601542416453\n",
      "F1 is  0.8889938558614282\n"
     ]
    }
   ],
   "source": [
    "getPCA(4)"
   ]
  },
  {
   "cell_type": "code",
   "execution_count": 7,
   "metadata": {},
   "outputs": [
    {
     "name": "stdout",
     "output_type": "stream",
     "text": [
      "number of components are 6\n",
      "variance is  0.9891986430964111\n",
      "Accuracy is  0.9243481454278369\n",
      "Precision is  0.9248812148305942\n",
      "Recall is  0.9243481454278369\n",
      "F1 is  0.9243511803525162\n"
     ]
    }
   ],
   "source": [
    "getPCA(6)"
   ]
  },
  {
   "cell_type": "code",
   "execution_count": 8,
   "metadata": {},
   "outputs": [
    {
     "name": "stdout",
     "output_type": "stream",
     "text": [
      "number of components are 8\n",
      "variance is  0.9993093340631198\n",
      "Accuracy is  0.9280205655526992\n",
      "Precision is  0.9286837346038485\n",
      "Recall is  0.9280205655526992\n",
      "F1 is  0.9280765809256262\n"
     ]
    }
   ],
   "source": [
    "getPCA(8)"
   ]
  },
  {
   "cell_type": "code",
   "execution_count": 9,
   "metadata": {},
   "outputs": [
    {
     "name": "stdout",
     "output_type": "stream",
     "text": [
      "number of components are 10\n",
      "variance is  0.9999083425762655\n",
      "Accuracy is  0.9280205655526992\n",
      "Precision is  0.9286837346038485\n",
      "Recall is  0.9280205655526992\n",
      "F1 is  0.9280765809256262\n"
     ]
    }
   ],
   "source": [
    "getPCA(10)"
   ]
  },
  {
   "cell_type": "code",
   "execution_count": 10,
   "metadata": {},
   "outputs": [
    {
     "name": "stdout",
     "output_type": "stream",
     "text": [
      "number of components are 12\n",
      "variance is  0.9999897278778122\n",
      "Accuracy is  0.9280205655526992\n",
      "Precision is  0.9286837346038485\n",
      "Recall is  0.9280205655526992\n",
      "F1 is  0.9280765809256262\n"
     ]
    }
   ],
   "source": [
    "getPCA(12)"
   ]
  }
 ],
 "metadata": {
  "kernelspec": {
   "display_name": "Python 3.9.12 ('base')",
   "language": "python",
   "name": "python3"
  },
  "language_info": {
   "codemirror_mode": {
    "name": "ipython",
    "version": 3
   },
   "file_extension": ".py",
   "mimetype": "text/x-python",
   "name": "python",
   "nbconvert_exporter": "python",
   "pygments_lexer": "ipython3",
   "version": "3.9.12"
  },
  "orig_nbformat": 4,
  "vscode": {
   "interpreter": {
    "hash": "2075c97d54907e4ce0bb4b751e65d444874ef25bbe90d9b8c2daef915656c098"
   }
  }
 },
 "nbformat": 4,
 "nbformat_minor": 2
}
