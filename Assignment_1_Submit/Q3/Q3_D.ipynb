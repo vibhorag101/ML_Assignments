{
 "cells": [
  {
   "cell_type": "code",
   "execution_count": 1,
   "metadata": {},
   "outputs": [],
   "source": [
    "import numpy as np\n",
    "import matplotlib.pyplot as plt\n",
    "import pandas as pd\n",
    "import seaborn as sns\n",
    "from sklearn.model_selection import train_test_split\n",
    "from sklearn.metrics import accuracy_score\n",
    "from sklearn.metrics import precision_score\n",
    "from sklearn.metrics import recall_score\n",
    "from sklearn.naive_bayes import GaussianNB\n",
    "from sklearn.naive_bayes import MultinomialNB\n",
    "from sklearn.preprocessing import MinMaxScaler\n",
    "from sklearn.model_selection import GridSearchCV\n",
    "from sklearn.manifold import TSNE\n",
    "from sklearn.preprocessing import StandardScaler"
   ]
  },
  {
   "cell_type": "code",
   "execution_count": 2,
   "metadata": {},
   "outputs": [],
   "source": [
    "reader=pd.read_excel('Dry_Bean_Dataset.xlsx')\n",
    "df=pd.DataFrame(reader)"
   ]
  },
  {
   "cell_type": "code",
   "execution_count": 3,
   "metadata": {},
   "outputs": [],
   "source": [
    "df1=df.drop([\"Class\"],axis=1)\n",
    "tempClass=df[\"Class\"]\n",
    "gaussian = GaussianNB()\n",
    "sc=StandardScaler()"
   ]
  },
  {
   "cell_type": "code",
   "execution_count": 4,
   "metadata": {},
   "outputs": [],
   "source": [
    "trainX, testX, trainY, testY = train_test_split(df1, tempClass, test_size=0.2, random_state=0)\n",
    "trainX=sc.fit_transform(trainX)\n",
    "testX=sc.transform(testX)\n"
   ]
  },
  {
   "cell_type": "code",
   "execution_count": 5,
   "metadata": {},
   "outputs": [],
   "source": [
    "gaussian.fit(trainX, trainY)\n",
    "predictedY = gaussian.predict(testX)"
   ]
  },
  {
   "cell_type": "code",
   "execution_count": 6,
   "metadata": {},
   "outputs": [],
   "source": [
    "def printRes(precisionScore, recallScore, accuracyScore,modelName):\n",
    "    print(\"Results of\",modelName,\"Naive Bayes are as follows:\")\n",
    "    print(\"The model's precision is :\",precisionScore)\n",
    "    print(\"The model's recall is :\",recallScore)\n",
    "    print(\"The model's accuracy is :\",accuracyScore)"
   ]
  },
  {
   "cell_type": "code",
   "execution_count": 7,
   "metadata": {},
   "outputs": [],
   "source": [
    "precisionScore =  precision_score(testY, predictedY,average='weighted').round(3)\n",
    "recallScore = recall_score(testY, predictedY,average='weighted').round(3)\n",
    "accuracyScore = accuracy_score(testY, predictedY).round(3)"
   ]
  },
  {
   "cell_type": "code",
   "execution_count": 8,
   "metadata": {},
   "outputs": [
    {
     "name": "stdout",
     "output_type": "stream",
     "text": [
      "Results of Gaussian Naive Bayes are as follows:\n",
      "The model's precision is : 0.897\n",
      "The model's recall is : 0.897\n",
      "The model's accuracy is : 0.897\n"
     ]
    }
   ],
   "source": [
    "printRes(precisionScore, recallScore, accuracyScore,\"Gaussian\")"
   ]
  },
  {
   "cell_type": "code",
   "execution_count": 9,
   "metadata": {},
   "outputs": [],
   "source": [
    "trainX, testX, trainY, testY = train_test_split(df1, tempClass, test_size=0.2, random_state=0)\n",
    "multinomial = MultinomialNB()\n",
    "multinomial.fit(trainX, trainY)\n",
    "predictedY = multinomial.predict(testX)"
   ]
  },
  {
   "cell_type": "code",
   "execution_count": 10,
   "metadata": {},
   "outputs": [],
   "source": [
    "precisionScore =  precision_score(testY, predictedY,average='weighted').round(3)\n",
    "recallScore = recall_score(testY, predictedY,average='weighted').round(3)\n",
    "accuracyScore = accuracy_score(testY, predictedY).round(3)"
   ]
  },
  {
   "cell_type": "code",
   "execution_count": 11,
   "metadata": {},
   "outputs": [
    {
     "name": "stdout",
     "output_type": "stream",
     "text": [
      "Results of Multinomial Naive Bayes are as follows:\n",
      "The model's precision is : 0.788\n",
      "The model's recall is : 0.786\n",
      "The model's accuracy is : 0.786\n"
     ]
    }
   ],
   "source": [
    "printRes(precisionScore, recallScore, accuracyScore,\"Multinomial\")"
   ]
  }
 ],
 "metadata": {
  "kernelspec": {
   "display_name": "Python 3.9.12 ('base')",
   "language": "python",
   "name": "python3"
  },
  "language_info": {
   "codemirror_mode": {
    "name": "ipython",
    "version": 3
   },
   "file_extension": ".py",
   "mimetype": "text/x-python",
   "name": "python",
   "nbconvert_exporter": "python",
   "pygments_lexer": "ipython3",
   "version": "3.9.12"
  },
  "orig_nbformat": 4,
  "vscode": {
   "interpreter": {
    "hash": "2075c97d54907e4ce0bb4b751e65d444874ef25bbe90d9b8c2daef915656c098"
   }
  }
 },
 "nbformat": 4,
 "nbformat_minor": 2
}
