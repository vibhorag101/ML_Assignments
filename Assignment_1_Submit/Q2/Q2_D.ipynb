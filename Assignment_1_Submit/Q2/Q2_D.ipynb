{
 "cells": [
  {
   "cell_type": "code",
   "execution_count": 36,
   "metadata": {},
   "outputs": [],
   "source": [
    "import numpy as np\n",
    "import pandas as pd\n",
    "import matplotlib.pyplot as plt\n",
    "import random"
   ]
  },
  {
   "cell_type": "code",
   "execution_count": 37,
   "metadata": {},
   "outputs": [],
   "source": [
    "df = pd.read_csv('Real estate.csv')"
   ]
  },
  {
   "cell_type": "code",
   "execution_count": 38,
   "metadata": {},
   "outputs": [],
   "source": [
    "inputData = \"\"\n",
    "outputData = \"\"\n",
    "\n",
    "def initialiseData():\n",
    "    global outputData\n",
    "    global inputData\n",
    "    outputData = df.iloc[:,7]\n",
    "    inputData = df.iloc[:,1:7]\n",
    "\n",
    "def meanData(inputData):\n",
    "    return np.mean(inputData)\n",
    "\n",
    "def sdData(inputData):\n",
    "    return np.std(inputData)\n",
    "\n",
    "initialiseData()"
   ]
  },
  {
   "cell_type": "code",
   "execution_count": 39,
   "metadata": {},
   "outputs": [],
   "source": [
    "numColumns = inputData.shape[1]\n",
    "startingWeight = np.zeros(numColumns+1)"
   ]
  },
  {
   "cell_type": "code",
   "execution_count": 40,
   "metadata": {},
   "outputs": [],
   "source": [
    "def normaliseData(inputData, meanInput, stdInput):\n",
    "    return ((inputData-meanInput)/stdInput)"
   ]
  },
  {
   "cell_type": "code",
   "execution_count": 41,
   "metadata": {},
   "outputs": [],
   "source": [
    "def loss(rowsPerFold,newWeight,testInput,trainOutputStd,trainOutputMean,testOutput):\n",
    "    loss =0\n",
    "    j=0\n",
    "    while j< rowsPerFold:\n",
    "        tempRow = testInput[j]\n",
    "        tempRow = np.reshape(tempRow,(np.shape(tempRow)[0],1))\n",
    "        predictedNormalised = np.dot(tempRow.transpose(),newWeight)\n",
    "        predicted = predictedNormalised*trainOutputStd+trainOutputMean\n",
    "        loss += (int(predicted)-int(testOutput[j]))**2\n",
    "        j = j+1\n",
    "    loss = loss/rowsPerFold\n",
    "    loss = np.sqrt(loss)\n",
    "    return loss\n",
    "    \n",
    "    "
   ]
  },
  {
   "cell_type": "code",
   "execution_count": 42,
   "metadata": {},
   "outputs": [],
   "source": [
    "def findTerms(trainInput,trainTranspose):\n",
    "    term1 = np.dot(trainTranspose,trainInput)\n",
    "    term2 = np.linalg.inv(term1)\n",
    "    term3 = np.dot(term2,trainTranspose)\n",
    "    return term1,term2,term3\n",
    "\n",
    "def normalSolution(k,startingWeight,inputData,outputData):\n",
    "    numColumns = inputData.shape[1]\n",
    "    totalRows = inputData.shape[0]\n",
    "    rowsPerFold = int(totalRows/k)\n",
    "    averageLoss = 0\n",
    "    i=0\n",
    "    while i<k:\n",
    "        start = i*rowsPerFold\n",
    "        end = start+rowsPerFold\n",
    "        testInput = inputData[start:end].to_numpy()\n",
    "        testOutput = outputData[start:end].to_numpy()\n",
    "        trainInput = inputData.drop(inputData.index[start:end]).to_numpy()\n",
    "        trainOutput = outputData.drop(outputData.index[start:end]).to_numpy()\n",
    "\n",
    "        tempArr = np.ones(np.shape(trainInput)[0])\n",
    "        trainInput = np.insert(trainInput,0,tempArr,axis=1)\n",
    "        trainOutput = np.reshape(trainOutput,(np.shape(trainOutput)[0],1))\n",
    "        trainInputMean = meanData(trainInput)\n",
    "        trainInputStd = sdData(trainOutput)\n",
    "        trainOutputMean = meanData(trainOutput)\n",
    "        trainOutputStd = sdData(trainOutput)\n",
    "        \n",
    "        trainInput = normaliseData(trainInput,trainInputMean,trainInputStd)\n",
    "        trainOutput = normaliseData(trainOutput,trainOutputMean,trainOutputStd)\n",
    "\n",
    "        trainTranspose = np.transpose(trainInput)\n",
    "        terms = findTerms(trainInput,trainTranspose)\n",
    "        newWeight = np.dot(terms[2],trainOutput)\n",
    "\n",
    "        temp2 = np.ones(np.shape(testInput)[0])\n",
    "        testInput = np.insert(testInput,0,temp2,axis=1)\n",
    "        testInput = normaliseData(testInput,trainInputMean,trainInputStd)\n",
    "        \n",
    "        averageLoss += loss(rowsPerFold,newWeight,testInput,trainOutputStd,trainOutputMean,testOutput)\n",
    "        i = i+1\n",
    "\n",
    "    averageLoss = averageLoss/k\n",
    "    return averageLoss\n"
   ]
  },
  {
   "cell_type": "code",
   "execution_count": 43,
   "metadata": {},
   "outputs": [],
   "source": [
    "def runNormal(k):\n",
    "    averageLoss = normalSolution(k,startingWeight.copy(),inputData,outputData)\n",
    "    print(\"The loss obtained using normal equation is for\",k,\"folds is\",averageLoss)"
   ]
  },
  {
   "cell_type": "code",
   "execution_count": 44,
   "metadata": {},
   "outputs": [
    {
     "name": "stdout",
     "output_type": "stream",
     "text": [
      "The loss obtained using normal equation is for 4 folds is 8.842205348646141\n"
     ]
    }
   ],
   "source": [
    "runNormal(4)"
   ]
  }
 ],
 "metadata": {
  "kernelspec": {
   "display_name": "Python 3.9.12 ('base')",
   "language": "python",
   "name": "python3"
  },
  "language_info": {
   "codemirror_mode": {
    "name": "ipython",
    "version": 3
   },
   "file_extension": ".py",
   "mimetype": "text/x-python",
   "name": "python",
   "nbconvert_exporter": "python",
   "pygments_lexer": "ipython3",
   "version": "3.9.12"
  },
  "orig_nbformat": 4,
  "vscode": {
   "interpreter": {
    "hash": "2075c97d54907e4ce0bb4b751e65d444874ef25bbe90d9b8c2daef915656c098"
   }
  }
 },
 "nbformat": 4,
 "nbformat_minor": 2
}
